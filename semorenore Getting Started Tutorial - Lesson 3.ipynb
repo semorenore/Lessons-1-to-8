{
 "cells": [
  {
   "cell_type": "markdown",
   "metadata": {},
   "source": [
    "## Pipeline API"
   ]
  },
  {
   "cell_type": "markdown",
   "metadata": {},
   "source": [
    "The Pipeline API is a powerful tool for cross-sectional analysis of asset data. It allows us to define a set of calculations on multiple data inputs and analyze a large amount of assets at a time. Some common uses for the Pipeline API include:  \n",
    "\n",
    "* Selecting assets based on filtering rules  \n",
    "* Ranking assets based on a scoring function  \n",
    "* Calculating portfolio allocations  \n",
    "\n",
    "To begin, let's import the Pipeline class and create a function that returns an empty pipeline. Putting our pipeline definition inside a function helps us keep things organized as our pipeline grows in complexity. This is particularly helpful when transferring data pipelines between Research and the IDE."
   ]
  },
  {
   "cell_type": "code",
   "execution_count": 2,
   "metadata": {},
   "outputs": [],
   "source": [
    "# Pipeline class\n",
    "from quantopian.pipeline import Pipeline\n",
    "\n",
    "def make_pipeline():\n",
    "    # Create and return an empty Pipeline\n",
    "    return Pipeline()"
   ]
  },
  {
   "cell_type": "markdown",
   "metadata": {},
   "source": [
    "To add an output to our pipeline we need to include a reference to a dataset, and specify the computations we want to carry out on that data. For example, we will add a reference to the `close` column from the `USEquityPricing` dataset. Then, we can define our output to be the latest value from this column as follows:"
   ]
  },
  {
   "cell_type": "code",
   "execution_count": 3,
   "metadata": {},
   "outputs": [],
   "source": [
    "# Import Pipeline class and USEquityPricing dataset\n",
    "from quantopian.pipeline import Pipeline\n",
    "from quantopian.pipeline.data import USEquityPricing\n",
    "\n",
    "def make_pipeline():\n",
    "    # Get latest closing price\n",
    "    close_price = USEquityPricing.close.latest\n",
    "\n",
    "    # Return Pipeline containing latest closing price\n",
    "    return Pipeline(\n",
    "        columns={\n",
    "            'close_price': close_price,\n",
    "        }\n",
    "    )"
   ]
  },
  {
   "cell_type": "markdown",
   "metadata": {},
   "source": [
    "The Pipeline API also provides a number of built-in calculations, some of which are computed over trailing windows of data. For example, the following code imports Psychsignal's `stocktwits` dataset and defines an output as the 3 day moving average of its `bull_minus_bear` column:"
   ]
  },
  {
   "cell_type": "code",
   "execution_count": 4,
   "metadata": {},
   "outputs": [],
   "source": [
    "# Import Pipeline class and datasets\n",
    "from quantopian.pipeline import Pipeline\n",
    "from quantopian.pipeline.data import USEquityPricing\n",
    "from quantopian.pipeline.data.psychsignal import stocktwits\n",
    "\n",
    "# Import built-in moving average calculation\n",
    "from quantopian.pipeline.factors import SimpleMovingAverage\n",
    "\n",
    "\n",
    "def make_pipeline():\n",
    "    # Get latest closing price\n",
    "    close_price = USEquityPricing.close.latest\n",
    "\n",
    "    # Calculate 3 day average of bull_minus_bear scores\n",
    "    sentiment_score = SimpleMovingAverage(\n",
    "        inputs=[stocktwits.bull_minus_bear],\n",
    "        window_length=3,\n",
    "    )\n",
    "\n",
    "    # Return Pipeline containing close_price\n",
    "    # and sentiment_score\n",
    "    return Pipeline(\n",
    "        columns={\n",
    "            'close_price': close_price,\n",
    "            'sentiment_score': sentiment_score,\n",
    "        }\n",
    "    )"
   ]
  },
  {
   "cell_type": "markdown",
   "metadata": {},
   "source": [
    "### Universe Selection"
   ]
  },
  {
   "cell_type": "markdown",
   "metadata": {},
   "source": [
    "An important part of developing a strategy is defining the set of assets that we want to consider trading in our portfolio. We usually refer to this set of assets as our trading universe.  \n",
    "\n",
    "A trading universe should be as large as possible, while also excluding assets that aren't appropriate for our portfolio. For example, we want to exclude stocks that are illiquid or difficult to trade. Quantopian's `QTradableStocksUS` universe offers this characteristic. We can set `QTradableStocksUS` as our trading universe using the screen parameter of our pipeline constructor:"
   ]
  },
  {
   "cell_type": "code",
   "execution_count": 5,
   "metadata": {},
   "outputs": [],
   "source": [
    "# Import Pipeline class and datasets\n",
    "from quantopian.pipeline import Pipeline\n",
    "from quantopian.pipeline.data import USEquityPricing\n",
    "from quantopian.pipeline.data.psychsignal import stocktwits\n",
    "\n",
    "# Import built-in moving average calculation\n",
    "from quantopian.pipeline.factors import SimpleMovingAverage\n",
    "\n",
    "# Import built-in trading universe\n",
    "from quantopian.pipeline.filters import QTradableStocksUS\n",
    "\n",
    "\n",
    "def make_pipeline():\n",
    "    # Create a reference to our trading universe\n",
    "    base_universe = QTradableStocksUS()\n",
    "\n",
    "    # Get latest closing price\n",
    "    close_price = USEquityPricing.close.latest\n",
    "\n",
    "    # Calculate 3 day average of bull_minus_bear scores\n",
    "    sentiment_score = SimpleMovingAverage(\n",
    "        inputs=[stocktwits.bull_minus_bear],\n",
    "        window_length=3,\n",
    "    )\n",
    "\n",
    "    # Return Pipeline containing close_price and\n",
    "    # sentiment_score that has our trading universe as screen\n",
    "    return Pipeline(\n",
    "        columns={\n",
    "            'close_price': close_price,\n",
    "            'sentiment_score': sentiment_score,\n",
    "        },\n",
    "        screen=base_universe\n",
    "    )"
   ]
  },
  {
   "cell_type": "markdown",
   "metadata": {},
   "source": [
    "Now that our pipeline definition is complete, we can execute it over a specific period of time using `run_pipeline`. The output will be a pandas DataFrame indexed by date and asset, with columns corresponding to the outputs we added to our pipeline definition:"
   ]
  },
  {
   "cell_type": "code",
   "execution_count": 6,
   "metadata": {},
   "outputs": [
    {
     "data": {
      "application/vnd.jupyter.widget-view+json": {
       "model_id": "",
       "version_major": 2,
       "version_minor": 0
      },
      "text/plain": []
     },
     "metadata": {},
     "output_type": "display_data"
    },
    {
     "data": {
      "text/html": [
       "<b>Pipeline Execution Time:</b> 3 Minutes, 17.19 Seconds"
      ],
      "text/plain": [
       "<IPython.core.display.HTML object>"
      ]
     },
     "metadata": {},
     "output_type": "display_data"
    },
    {
     "data": {
      "text/html": [
       "<div>\n",
       "<table border=\"1\" class=\"dataframe\">\n",
       "  <thead>\n",
       "    <tr style=\"text-align: right;\">\n",
       "      <th></th>\n",
       "      <th></th>\n",
       "      <th>close_price</th>\n",
       "      <th>sentiment_score</th>\n",
       "    </tr>\n",
       "  </thead>\n",
       "  <tbody>\n",
       "    <tr>\n",
       "      <th rowspan=\"15\" valign=\"top\">2020-04-13 00:00:00+00:00</th>\n",
       "      <th>Equity(53260 [IAA])</th>\n",
       "      <td>32.085</td>\n",
       "      <td>0.000000</td>\n",
       "    </tr>\n",
       "    <tr>\n",
       "      <th>Equity(53267 [STOK])</th>\n",
       "      <td>21.740</td>\n",
       "      <td>0.000000</td>\n",
       "    </tr>\n",
       "    <tr>\n",
       "      <th>Equity(53271 [WORK])</th>\n",
       "      <td>24.740</td>\n",
       "      <td>0.278664</td>\n",
       "    </tr>\n",
       "    <tr>\n",
       "      <th>Equity(53273 [GO])</th>\n",
       "      <td>33.860</td>\n",
       "      <td>-0.723333</td>\n",
       "    </tr>\n",
       "    <tr>\n",
       "      <th>Equity(53293 [BSTZ])</th>\n",
       "      <td>18.350</td>\n",
       "      <td>1.416667</td>\n",
       "    </tr>\n",
       "    <tr>\n",
       "      <th>Equity(53303 [BBIO])</th>\n",
       "      <td>28.420</td>\n",
       "      <td>-0.893333</td>\n",
       "    </tr>\n",
       "    <tr>\n",
       "      <th>Equity(53304 [ADPT])</th>\n",
       "      <td>25.920</td>\n",
       "      <td>0.633333</td>\n",
       "    </tr>\n",
       "    <tr>\n",
       "      <th>Equity(53313 [REAL])</th>\n",
       "      <td>8.180</td>\n",
       "      <td>0.890000</td>\n",
       "    </tr>\n",
       "    <tr>\n",
       "      <th>Equity(53314 [KRTX])</th>\n",
       "      <td>68.035</td>\n",
       "      <td>2.178889</td>\n",
       "    </tr>\n",
       "    <tr>\n",
       "      <th>Equity(53352 [ORCC])</th>\n",
       "      <td>13.500</td>\n",
       "      <td>-0.300000</td>\n",
       "    </tr>\n",
       "    <tr>\n",
       "      <th>Equity(53353 [PHR])</th>\n",
       "      <td>20.080</td>\n",
       "      <td>0.000000</td>\n",
       "    </tr>\n",
       "    <tr>\n",
       "      <th>Equity(53360 [IHRT])</th>\n",
       "      <td>7.680</td>\n",
       "      <td>0.805000</td>\n",
       "    </tr>\n",
       "    <tr>\n",
       "      <th>Equity(53362 [MDLA])</th>\n",
       "      <td>20.000</td>\n",
       "      <td>1.391667</td>\n",
       "    </tr>\n",
       "    <tr>\n",
       "      <th>Equity(53365 [AFYA])</th>\n",
       "      <td>20.740</td>\n",
       "      <td>3.500000</td>\n",
       "    </tr>\n",
       "    <tr>\n",
       "      <th>Equity(53370 [HCAT])</th>\n",
       "      <td>25.040</td>\n",
       "      <td>-0.150000</td>\n",
       "    </tr>\n",
       "  </tbody>\n",
       "</table>\n",
       "</div>"
      ],
      "text/plain": [
       "                                                close_price  sentiment_score\n",
       "2020-04-13 00:00:00+00:00 Equity(53260 [IAA])        32.085         0.000000\n",
       "                          Equity(53267 [STOK])       21.740         0.000000\n",
       "                          Equity(53271 [WORK])       24.740         0.278664\n",
       "                          Equity(53273 [GO])         33.860        -0.723333\n",
       "                          Equity(53293 [BSTZ])       18.350         1.416667\n",
       "                          Equity(53303 [BBIO])       28.420        -0.893333\n",
       "                          Equity(53304 [ADPT])       25.920         0.633333\n",
       "                          Equity(53313 [REAL])        8.180         0.890000\n",
       "                          Equity(53314 [KRTX])       68.035         2.178889\n",
       "                          Equity(53352 [ORCC])       13.500        -0.300000\n",
       "                          Equity(53353 [PHR])        20.080         0.000000\n",
       "                          Equity(53360 [IHRT])        7.680         0.805000\n",
       "                          Equity(53362 [MDLA])       20.000         1.391667\n",
       "                          Equity(53365 [AFYA])       20.740         3.500000\n",
       "                          Equity(53370 [HCAT])       25.040        -0.150000"
      ]
     },
     "execution_count": 6,
     "metadata": {},
     "output_type": "execute_result"
    }
   ],
   "source": [
    "# Import run_pipeline method\n",
    "from quantopian.research import run_pipeline\n",
    "\n",
    "# Execute pipeline created by make_pipeline\n",
    "# between start_date and end_date\n",
    "pipeline_output = run_pipeline(\n",
    "    make_pipeline(),\n",
    "    start_date='2018-04-10',\n",
    "    end_date='2020-04-10'\n",
    ")\n",
    "\n",
    "# Display last 10 rows\n",
    "pipeline_output.tail(15)"
   ]
  },
  {
   "cell_type": "markdown",
   "metadata": {},
   "source": [
    "In the next lesson we will formalize the strategy our algorithm will use to select assets to trade. Then, we will use a factor analysis tool to evaluate the predictive power of our strategy over historical data."
   ]
  }
 ],
 "metadata": {
  "kernelspec": {
   "display_name": "Python 3.5",
   "language": "python",
   "name": "py35"
  },
  "language_info": {
   "codemirror_mode": {
    "name": "ipython",
    "version": 3
   },
   "file_extension": ".py",
   "mimetype": "text/x-python",
   "name": "python",
   "nbconvert_exporter": "python",
   "pygments_lexer": "ipython3",
   "version": "3.5.9"
  }
 },
 "nbformat": 4,
 "nbformat_minor": 2
}